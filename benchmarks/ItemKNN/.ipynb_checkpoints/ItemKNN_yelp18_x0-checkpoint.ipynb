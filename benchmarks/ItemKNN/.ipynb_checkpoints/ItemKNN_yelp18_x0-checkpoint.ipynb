{
 "cells": [
  {
   "cell_type": "markdown",
   "metadata": {},
   "source": [
    "## ItemKNN_yelp18_x0 \n",
    "\n",
    "A notebook to benchmark ItemKNN on yelp18_x0 dataset.\n",
    "\n",
    "Author: Jinpeng Wang, Tsinghua University\n",
    "\n",
    "Edited by [XUEPAI Team](https://github.com/xue-pai)\n"
   ]
  },
  {
   "cell_type": "markdown",
   "metadata": {},
   "source": [
    "### Index\n",
    "[Environments](#Environments) | [Dataset](#Dataset) | [Code](#Code) | [Logs](#Logs) | [Results](#Results)"
   ]
  },
  {
   "cell_type": "markdown",
   "metadata": {},
   "source": [
    "### Environments\n",
    "+ Hardware\n",
    "\n",
    "```python\n",
    "CPU: Intel(R) Xeon(R) CPU E5-2690 v4 @ 2.6GHz\n",
    "RAM: 500G+\n",
    "```\n",
    "+ Software\n",
    "\n",
    "```python\n",
    "python: 3.6.5\n",
    "pandas: 1.0.0\n",
    "numpy: 1.18.1\n",
    "```"
   ]
  },
  {
   "cell_type": "markdown",
   "metadata": {},
   "source": [
    "### Dataset\n",
    "yelp18_x0 follows the data split and preprocessing steps in NGCF and LightGCN. We directly transform the formats of the data from their [repo](https://github.com/kuandeng/LightGCN/tree/master/Data).\n"
   ]
  },
  {
   "cell_type": "markdown",
   "metadata": {},
   "source": [
    "### Code"
   ]
  },
  {
   "cell_type": "code",
   "execution_count": 2,
   "metadata": {},
   "outputs": [],
   "source": [
    "# Data preparison: Downalod the datasets from LightGCN repo and run the preprocessing script for format transformation\n",
    "!cd ../../data/Yelp18/yelp18_x0\n",
    "!python ENMF_data_process.py\n",
    "!cd ."
   ]
  },
  {
   "cell_type": "code",
   "execution_count": null,
   "metadata": {},
   "outputs": [],
   "source": [
    "from ItemKNN import ItemKNN\n",
    "\n",
    "params = {\"train_data\": \"../../data/Yelp18/yelp18_x0/train_enmf.txt\",\n",
    "          \"test_data\": \"../../data/Yelp18/yelp18_x0/test_enmf.txt\",\n",
    "          \"similarity_measure\": \"pearson\",\n",
    "          \"num_neighbors\": 150,\n",
    "          \"min_similarity_threshold\": 0,\n",
    "          \"renormalize_similarity\": False,\n",
    "          \"enable_average_bias\": True,\n",
    "          \"metrics\": ['Recall(k=20)', 'Recall(k=50)', 'NDCG(k=20)', 'NDCG(k=50)', 'HitRate(k=20)', 'HitRate(k=50)']}\n",
    "model = ItemKNN(params)\n",
    "model.fit()\n",
    "model.evaluate()"
   ]
  },
  {
   "cell_type": "markdown",
   "metadata": {},
   "source": [
    "### Logs\n",
    "``` python\n",
    "2020-11-04 13:23:01.382845 Params: {'train_data': '../../data/Yelp18/yelp18_x0/train_enmf.txt', 'test_data': '../../data/Yelp18/yelp18_x0/test_enmf.txt', 'similarity_measure': 'pearson', 'num_neighbors': 150, 'min_similarity_threshold': 0, 'renormalize_similarity': False, 'enable_average_bias': True, 'metrics': ['Recall(k=20)', 'Recall(k=50)', 'NDCG(k=20)', 'NDCG(k=50)', 'HitRate(k=20)', 'HitRate(k=50)']}\n",
    "2020-11-04 13:23:01.382983 Reading dataset...\n",
    "2020-11-04 13:23:02.456546 Number of users: 31668, number of items: 38048\n",
    "2020-11-04 13:23:03.536160 Start computing similarity matrix...\n",
    "2020-11-04 13:34:40.975208 Finished similarity matrix computation.\n",
    "2020-11-04 13:34:41.100311 Start predicting preference...\n",
    "2020-11-04 13:49:51.267282 Evaluating metrics for 31668 users...\n",
    "2020-11-04 13:56:25.141725 [Metrics] Recall(k=20): 0.063913 - Recall(k=50): 0.121876 - NDCG(k=20): 0.053094 - NDCG(k=50): 0.074579 - HitRate(k=20): 0.387552 - HitRate(k=50): 0.575313\n",
    "```"
   ]
  },
  {
   "cell_type": "markdown",
   "metadata": {},
   "source": [
    "### Results\n",
    "``` python\n",
    "[Metrics] Recall(k=20): 0.063913 - Recall(k=50): 0.121876 - NDCG(k=20): 0.053094 - NDCG(k=50): 0.074579 - HitRate(k=20): 0.387552 - HitRate(k=50): 0.575313\n",
    "```"
   ]
  }
 ],
 "metadata": {
  "kernelspec": {
   "display_name": "Python 3",
   "language": "python",
   "name": "python3"
  },
  "language_info": {
   "codemirror_mode": {
    "name": "ipython",
    "version": 3
   },
   "file_extension": ".py",
   "mimetype": "text/x-python",
   "name": "python",
   "nbconvert_exporter": "python",
   "pygments_lexer": "ipython3",
   "version": "3.6.5"
  }
 },
 "nbformat": 4,
 "nbformat_minor": 4
}
